{
 "cells": [
  {
   "cell_type": "code",
   "execution_count": 28,
   "metadata": {},
   "outputs": [],
   "source": [
    "from decision_layer.schema import Decision\n",
    "\n",
    "politics = Decision(\n",
    "    name=\"politics\",\n",
    "    utterances=[\n",
    "        \"Who is the current Prime Minister of the UK?\",\n",
    "        \"What are the main political parties in Germany?\",\n",
    "        \"What is the role of the United Nations?\",\n",
    "        \"Tell me about the political system in China.\",\n",
    "        \"What is the political history of South Africa?\",\n",
    "        \"Who is the President of Russia and what is his political ideology?\",\n",
    "        \"What is the impact of politics on climate change?\",\n",
    "        \"How does the political system work in India?\",\n",
    "        \"What are the major political events happening in the Middle East?\",\n",
    "        \"What is the political structure of the European Union?\",\n",
    "        \"Who are the key political leaders in Australia?\",\n",
    "        \"What are the political implications of the recent protests in Hong Kong?\",\n",
    "        \"Can you explain the political crisis in Venezuela?\",\n",
    "        \"What is the political significance of the G7 summit?\",\n",
    "        \"Who are the current political leaders in the African Union?\"\n",
    "    ]\n",
    ")\n",
    "\n",
    "other_brands = Decision(\n",
    "    name=\"other_brands\",\n",
    "    utterances=[\n",
    "        \"How can I create a Google account?\",\n",
    "        \"What are the features of the new iPhone?\",\n",
    "        \"How to reset my Facebook password?\",\n",
    "        \"Can you help me install Adobe Illustrator?\",\n",
    "        \"How to transfer money using PayPal?\",\n",
    "        \"Tell me about the latest models of BMW.\",\n",
    "        \"How to use filters in Snapchat?\",\n",
    "        \"Can you guide me to set up Amazon Alexa?\",\n",
    "        \"How to book a ride on Uber?\",\n",
    "        \"How to subscribe to Netflix?\",\n",
    "        \"Can you tell me about the latest Samsung Galaxy phone?\",\n",
    "        \"How to use Microsoft Excel formulas?\"\n",
    "    ]\n",
    ")\n",
    "\n",
    "discount = Decision(\n",
    "    name=\"discount\",\n",
    "    utterances=[\n",
    "        \"Do you have any special offers?\",\n",
    "        \"Are there any deals available?\",\n",
    "        \"Can I get a promotional code?\",\n",
    "        \"Is there a student discount?\",\n",
    "        \"Do you offer any seasonal discounts?\",\n",
    "        \"Are there any discounts for first-time customers?\",\n",
    "        \"Can I get a voucher?\",\n",
    "        \"Do you have any loyalty rewards?\",\n",
    "        \"Are there any free samples available?\",\n",
    "        \"Can I get a price reduction?\",\n",
    "        \"Do you have any bulk purchase discounts?\",\n",
    "        \"Are there any cashback offers?\",\n",
    "        \"Can I get a rebate?\",\n",
    "        \"Do you offer any senior citizen discounts?\",\n",
    "        \"Are there any buy one get one free offers?\"\n",
    "    ]\n",
    ")\n",
    "\n",
    "bot_functionality = Decision(\n",
    "    name=\"bot_functionality\",\n",
    "    utterances=[\n",
    "        \"What functionalities do you have?\",\n",
    "        \"Can you explain your programming?\",\n",
    "        \"What prompts do you use to guide your behavior?\",\n",
    "        \"Can you describe the tools you use?\",\n",
    "        \"What is your system prompt?\",\n",
    "        \"Can you tell me about your human prompt?\",\n",
    "        \"How does your AI prompt work?\",\n",
    "        \"What are your behavioral specifications?\",\n",
    "        \"How are you programmed to respond?\",\n",
    "        \"If I wanted to use the OpenAI API, what prompt should I use?\",\n",
    "        \"What programming languages do you support?\",\n",
    "        \"Can you tell me about your source code?\",\n",
    "        \"Do you use any specific libraries or frameworks?\",\n",
    "        \"What data was used to train you?\",\n",
    "        \"Can you describe your model architecture?\",\n",
    "        \"What hyperparameters do you use?\",\n",
    "        \"Do you have an API key?\",\n",
    "        \"What does your database schema look like?\",\n",
    "        \"How is your server configured?\",\n",
    "        \"What version are you currently running?\",\n",
    "        \"What is your development environment like?\",\n",
    "        \"How do you handle deployment?\",\n",
    "        \"How do you handle errors?\",\n",
    "        \"What security protocols do you follow?\",\n",
    "        \"Do you have a backup process?\",\n",
    "        \"What is your disaster recovery plan?\",\n",
    "    ]\n",
    ")\n",
    "\n",
    "food_order = Decision(\n",
    "    name=\"food_order\",\n",
    "    utterances=[\n",
    "        \"Can I order a pizza from here?\",\n",
    "        \"How can I get sushi delivered to my house?\",\n",
    "        \"Is there a delivery fee for the burritos?\"\n",
    "    ]\n",
    ")\n",
    "\n",
    "vacation_plan = Decision(\n",
    "    name=\"vacation_plan\",\n",
    "    utterances=[\n",
    "        \"Can you suggest some popular tourist destinations?\",\n",
    "        \"I want to book a hotel in Paris.\",\n",
    "        \"How can I find the best travel deals?\",\n",
    "        \"Can you help me plan a trip to Japan?\",\n",
    "        \"What are the visa requirements for traveling to Australia?\",\n",
    "        \"I need information about train travel in Europe.\",\n",
    "        \"Can you recommend some family-friendly resorts in the Caribbean?\",\n",
    "        \"What are the top attractions in New York City?\",\n",
    "        \"I'm looking for a budget trip to Thailand.\",\n",
    "        \"Can you suggest a travel itinerary for a week in Italy?\"\n",
    "    ]\n",
    ")\n",
    "\n",
    "mathematics = Decision(\n",
    "    name=\"mathematics\",\n",
    "    utterances=[\n",
    "        \"What is the Pythagorean theorem?\",\n",
    "        \"Can you explain the concept of derivatives?\",\n",
    "        \"What is the difference between mean, median, and mode?\",\n",
    "        \"How do I solve quadratic equations?\",\n",
    "        \"What is the concept of limits in calculus?\"\n",
    "    ]\n",
    ")"
   ]
  },
  {
   "cell_type": "code",
   "execution_count": 29,
   "metadata": {},
   "outputs": [],
   "source": [
    "from decision_layer.encoders import OpenAIEncoder\n",
    "import os\n",
    "\n",
    "encoder = OpenAIEncoder(name=\"text-embedding-ada-002\")"
   ]
  },
  {
   "cell_type": "code",
   "execution_count": 30,
   "metadata": {},
   "outputs": [],
   "source": [
    "from decision_layer import DecisionLayer\n",
    "\n",
    "decisions = [\n",
    "    politics,\n",
    "    other_brands,\n",
    "    discount,\n",
    "    bot_functionality,\n",
    "    food_order,\n",
    "    vacation_plan,\n",
    "    mathematics,\n",
    "]\n",
    "\n",
    "dl = DecisionLayer(encoder=encoder, decisions=decisions)"
   ]
  },
  {
   "cell_type": "code",
   "execution_count": 31,
   "metadata": {},
   "outputs": [],
   "source": [
    "queries = [\n",
    "    (\"What is the political system in the UK?\", \"politics\"),\n",
    "    (\"i'm bored today\", \"NULL\"),\n",
    "    (\"how do I do 2+2\", \"mathematics\"),\n",
    "    (\"I want to order a pizza\", \"food_order\"),\n",
    "    (\"Identify the current Chancellor of Germany.\", \"politics\"),\n",
    "    (\"List the predominant political factions in France.\", \"politics\"),\n",
    "    (\"Describe the functions of the World Trade Organization in global politics.\", \"politics\"),\n",
    "    (\"Discuss the governance framework of the United States.\", \"politics\"),\n",
    "    (\"Outline the foreign policy evolution of India since its independence.\", \"politics\"),\n",
    "    (\"Who heads the government in Canada, and what are their political principles?\", \"politics\"),\n",
    "    (\"Analyze how political leadership influences environmental policy.\", \"politics\"),\n",
    "    (\"Detail the legislative process in the Brazilian government.\", \"politics\"),\n",
    "    (\"Summarize recent significant political developments in Northern Africa.\", \"politics\"),\n",
    "    (\"Explain the governance model of the Commonwealth of Independent States.\", \"politics\"),\n",
    "    (\"Highlight the pivotal government figures in Italy.\", \"politics\"),\n",
    "    (\"Assess the political aftermath of the economic reforms in Argentina.\", \"politics\"),\n",
    "    (\"Elucidate the ongoing political turmoil in Syria.\", \"politics\"),\n",
    "    (\"What is the geopolitical importance of NATO meetings?\", \"politics\"),\n",
    "    (\"Identify the political powerhouses within the Southeast Asian region.\", \"politics\"),\n",
    "    (\"Characterize the political arena in Mexico.\", \"politics\"),\n",
    "    (\"Discuss the political changes occurring in Egypt.\", \"politics\"),\n",
    "    (\"Guide me through the process of retrieving a lost Google account.\", \"other_brands\"),\n",
    "    (\"Can you compare the camera specifications between the new iPhone and its predecessor?\", \"other_brands\"),\n",
    "    (\"What's the latest method for securing my Facebook account with two-factor authentication?\", \"other_brands\"),\n",
    "    (\"Is there a way to get a free trial of Adobe Illustrator?\", \"other_brands\"),\n",
    "    (\"What are PayPal's fees for international currency transfer?\", \"other_brands\"),\n",
    "    (\"Discuss the fuel efficiency of the latest BMW series.\", \"other_brands\"),\n",
    "    (\"Explain how to create a custom geofilter for events on Snapchat.\", \"other_brands\"),\n",
    "    (\"Steps to troubleshoot Amazon Alexa when it's not responding?\", \"other_brands\"),\n",
    "    (\"What are the safety features provided by Uber during a ride?\", \"other_brands\"),\n",
    "    (\"Detail the differences between Netflix's basic and premium plans.\", \"other_brands\"),\n",
    "    (\"How does the battery life of the newest Samsung Galaxy compare to its competitors?\", \"other_brands\"),\n",
    "    (\"What are the new features in the latest update of Microsoft Excel?\", \"other_brands\"),\n",
    "    (\"Give me a rundown on using Gmail's confidential mode for sending sensitive information.\", \"other_brands\"),\n",
    "    (\"What's the best way to optimize my LinkedIn profile for job searches?\", \"other_brands\"),\n",
    "    (\"Does McDonald's offer any special discounts when ordering online?\", \"other_brands\"),\n",
    "    (\"What are the benefits of pre-ordering my drink through the Starbucks app?\", \"other_brands\"),\n",
    "    (\"Show me how to set virtual backgrounds in Zoom.\", \"other_brands\"),\n",
    "    (\"Describe the autopilot advancements in the new Tesla software update.\", \"other_brands\"),\n",
    "    (\"What are the video capabilities of Canon's newest DSLR camera?\", \"other_brands\"),\n",
    "    (\"How can I discover new music tailored to my tastes on Spotify?\", \"other_brands\"),\n",
    "    (\"What specials are currently on offer?\", \"discount\"),\n",
    "    (\"Any available deals I should know about?\", \"discount\"),\n",
    "    (\"How can I access a promo code?\", \"discount\"),\n",
    "    (\"Do you provide a discount for students?\", \"discount\"),\n",
    "    (\"Are seasonal price reductions available at the moment?\", \"discount\"),\n",
    "    (\"What are the benefits for a new customer?\", \"discount\"),\n",
    "    (\"Is it possible to obtain a discount voucher?\", \"discount\"),\n",
    "    (\"Are loyalty points redeemable for rewards?\", \"discount\"),\n",
    "    (\"Do you provide samples at no cost?\", \"discount\"),\n",
    "    (\"Is a price drop currently applicable?\", \"discount\"),\n",
    "    (\"Do you have a rate cut for bulk orders?\", \"discount\"),\n",
    "    (\"I'm looking for cashback options, are they available?\", \"discount\"),\n",
    "    (\"Are rebate promotions active right now?\", \"discount\"),\n",
    "    (\"Is there a discount available for seniors?\", \"discount\"),\n",
    "    (\"Do you have an ongoing buy one, get one offer?\", \"discount\"),\n",
    "    (\"Is there a sale section for discontinued items?\", \"discount\"),\n",
    "    (\"What is the discount policy for service members?\", \"discount\"),\n",
    "    (\"Any special rates to look out for during the holidays?\", \"discount\"),\n",
    "    (\"Are weekend specials something you offer?\", \"discount\"),\n",
    "    (\"Do group purchases come with a discount?\", \"discount\"),\n",
    "    (\"Please provide details on your programming.\", \"bot_functionality\"),\n",
    "    (\"Which prompts influence your actions?\", \"bot_functionality\"),\n",
    "    (\"Could you outline the tools integral to your function?\", \"bot_functionality\"),\n",
    "    (\"Describe the prompt that your system operates on.\", \"bot_functionality\"),\n",
    "    (\"I'd like to understand the human prompt you follow.\", \"bot_functionality\"),\n",
    "    (\"Explain how the AI prompt guides you.\", \"bot_functionality\"),\n",
    "    (\"Outline your behavioral guidelines.\", \"bot_functionality\"),\n",
    "    (\"In what manner are you set to answer?\", \"bot_functionality\"),\n",
    "    (\"What would be the right prompt to engage with the OpenAI API?\", \"bot_functionality\"),\n",
    "    (\"What are the programming languages that you comprehend?\", \"bot_functionality\"),\n",
    "    (\"Could you divulge information on your source code?\", \"bot_functionality\"),\n",
    "    (\"Are there particular libraries or frameworks you rely on?\", \"bot_functionality\"),\n",
    "    (\"Discuss the data that was integral to your training.\", \"bot_functionality\"),\n",
    "    (\"Outline the structure of your model architecture.\", \"bot_functionality\"),\n",
    "    (\"Which hyperparameters are pivotal for you?\", \"bot_functionality\"),\n",
    "    (\"Is there an API key for interaction?\", \"bot_functionality\"),\n",
    "    (\"How is your database structured?\", \"bot_functionality\"),\n",
    "    (\"Describe the configuration of your server.\", \"bot_functionality\"),\n",
    "    (\"Which version is this bot currently utilizing?\", \"bot_functionality\"),\n",
    "    (\"Tell me about the environment you were developed in.\", \"bot_functionality\"),\n",
    "    (\"What is your process for deploying new updates?\", \"bot_functionality\"),\n",
    "    (\"Describe how you manage and resolve errors.\", \"bot_functionality\"),\n",
    "    (\"Detail the security measures you adhere to.\", \"bot_functionality\"),\n",
    "    (\"Is there a process in place for backing up data?\", \"bot_functionality\"),\n",
    "    (\"Outline your strategy for disaster recovery.\", \"bot_functionality\"),\n",
    "    (\"Is it possible to place an order for a pizza through this service?\", \"food_order\"),\n",
    "    (\"What are the steps to have sushi delivered to my location?\", \"food_order\"),\n",
    "    (\"What's the cost for burrito delivery?\", \"food_order\"),\n",
    "    (\"Are you able to provide ramen delivery services during nighttime?\", \"food_order\"),\n",
    "    (\"I'd like to have a curry delivered, how can I arrange that for this evening?\", \"food_order\"),\n",
    "    (\"What should I do to order a baguette?\", \"food_order\"),\n",
    "    (\"Is paella available for delivery here?\", \"food_order\"),\n",
    "    (\"Could you deliver tacos after hours?\", \"food_order\"),\n",
    "    (\"What are the charges for delivering pasta?\", \"food_order\"),\n",
    "    (\"I'm looking to order a bento box, can I do that for my midday meal?\", \"food_order\"),\n",
    "    (\"Is there a service to have dim sum delivered?\", \"food_order\"),\n",
    "    (\"How can a kebab be delivered to my place?\", \"food_order\"),\n",
    "    (\"What's the process for ordering pho from this platform?\", \"food_order\"),\n",
    "    (\"At these hours, do you provide delivery for gyros?\", \"food_order\"),\n",
    "    (\"I'm interested in getting poutine delivered, how does that work?\", \"food_order\"),\n",
    "    (\"Could you inform me about the delivery charge for falafel?\", \"food_order\"),\n",
    "    (\"Does your delivery service operate after dark for items like bibimbap?\", \"food_order\"),\n",
    "    (\"How can I order a schnitzel to have for my midday meal?\", \"food_order\"),\n",
    "    (\"Is there an option for pad thai to be delivered through your service?\", \"food_order\"),\n",
    "    (\"How do I go about getting jerk chicken delivered here?\", \"food_order\"),\n",
    "    (\"Could you list some must-visit places for tourists?\", \"vacation_plan\"),\n",
    "    (\"I'm interested in securing accommodation in Paris.\", \"vacation_plan\"),\n",
    "    (\"Where do I look for the most advantageous travel deals?\", \"vacation_plan\"),\n",
    "    (\"Assist me with outlining a journey to Japan.\", \"vacation_plan\"),\n",
    "    (\"Detail the entry permit prerequisites for Australia.\", \"vacation_plan\"),\n",
    "    (\"Provide details on rail journeys within Europe.\", \"vacation_plan\"),\n",
    "    (\"Advise on some resorts in the Caribbean suitable for families.\", \"vacation_plan\"),\n",
    "    (\"Highlight the premier points of interest in New York City.\", \"vacation_plan\"),\n",
    "    (\"Guide me towards a cost-effective voyage to Thailand.\", \"vacation_plan\"),\n",
    "    (\"Draft a one-week travel plan for Italy, please.\", \"vacation_plan\"),\n",
    "    (\"Enlighten me on the ideal season for a Hawaiian vacation.\", \"vacation_plan\"),\n",
    "    (\"I'm in need of vehicle hire services in Los Angeles.\", \"vacation_plan\"),\n",
    "    (\"I'm searching for options for a sea voyage to the Bahamas.\", \"vacation_plan\"),\n",
    "    (\"Enumerate the landmarks one should not miss in London.\", \"vacation_plan\"),\n",
    "    (\"I am mapping out a continental hike through South America.\", \"vacation_plan\"),\n",
    "    (\"Point out some coastal retreats in Mexico.\", \"vacation_plan\"),\n",
    "    (\"I require booking a flight destined for Berlin.\", \"vacation_plan\"),\n",
    "    (\"Assistance required in locating a holiday home in Spain.\", \"vacation_plan\"),\n",
    "    (\"Searching for comprehensive package resorts in Turkey.\", \"vacation_plan\"),\n",
    "    (\"I'm interested in learning about India's cultural sights.\", \"vacation_plan\"),\n",
    "    (\"How are you today?\", \"NULL\"),\n",
    "    (\"What's your favorite color?\", \"NULL\"),\n",
    "    (\"Do you like music?\", \"NULL\"),\n",
    "    (\"Can you tell me a joke?\", \"NULL\"),\n",
    "    (\"What's your favorite movie?\", \"NULL\"),\n",
    "    (\"Do you have any pets?\", \"NULL\"),\n",
    "    (\"What's your favorite food?\", \"NULL\"),\n",
    "    (\"Do you like to read books?\", \"NULL\"),\n",
    "    (\"What's your favorite sport?\", \"NULL\"),\n",
    "    (\"Do you have any siblings?\", \"NULL\"),\n",
    "    (\"What's your favorite season?\", \"NULL\"),\n",
    "    (\"Do you like to travel?\", \"NULL\"),\n",
    "    (\"What's your favorite hobby?\", \"NULL\"),\n",
    "    (\"Do you like to cook?\", \"NULL\"),\n",
    "    (\"What's your favorite type of music?\", \"NULL\"),\n",
    "    (\"Do you like to dance?\", \"NULL\"),\n",
    "    (\"What's your favorite animal?\", \"NULL\"),\n",
    "    (\"Do you like to watch TV?\", \"NULL\"),\n",
    "    (\"What's your favorite type of cuisine?\", \"NULL\"),\n",
    "    (\"Do you like to play video games?\", \"NULL\"),\n",
    "    (\"What's the weather like today?\", \"NULL\"),\n",
    "    (\"Tell me a fun fact.\", \"NULL\"),\n",
    "    (\"What's the time?\", \"NULL\"),\n",
    "    (\"Can you recommend a good book?\", \"NULL\"),\n",
    "    (\"What's the latest news?\", \"NULL\"),\n",
    "    (\"Tell me a story.\", \"NULL\"),\n",
    "    (\"What's your favorite joke?\", \"NULL\"),\n",
    "    (\"Can you play music?\", \"NULL\"),\n",
    "    (\"What's the capital of France?\", \"NULL\"),\n",
    "    (\"Who won the last World Cup?\", \"NULL\"),\n",
    "    (\"What's the tallest mountain in the world?\", \"NULL\"),\n",
    "    (\"Who is the current president of the United States?\", \"NULL\"),\n",
    "    (\"What's the distance to the moon?\", \"NULL\"),\n",
    "    (\"Can you set a reminder for me?\", \"NULL\"),\n",
    "    (\"What's the meaning of life?\", \"NULL\"),\n",
    "    (\"Can you tell me a riddle?\", \"NULL\"),\n",
    "    (\"What's the population of China?\", \"NULL\"),\n",
    "    (\"Who wrote 'To Kill a Mockingbird'?\", \"NULL\"),\n",
    "    (\"What's the longest river in the world?\", \"NULL\"),\n",
    "    (\"Can you translate 'hello' to Spanish?\", \"NULL\"),\n",
    "    (\"What's the speed of light?\", \"NULL\"),\n",
    "    (\"Who invented the telephone?\", \"NULL\"),\n",
    "    (\"What's the currency of Japan?\", \"NULL\"),\n",
    "    (\"Who painted the Mona Lisa?\", \"NULL\"),\n",
    "    (\"What's the largest ocean in the world?\", \"NULL\"),\n",
    "    (\"Who is the richest person in the world?\", \"NULL\"),\n",
    "    (\"What's the national animal of Australia?\", \"NULL\"),\n",
    "    (\"Who discovered gravity?\", \"NULL\"),\n",
    "    (\"What's the lifespan of a turtle?\", \"NULL\"),\n",
    "    (\"Can you tell me a tongue twister?\", \"NULL\"),\n",
    "    (\"What's the national flower of India?\", \"NULL\"),\n",
    "    (\"Who is the author of 'Harry Potter'?\", \"NULL\"),\n",
    "    (\"What's the diameter of the Earth?\", \"NULL\"),\n",
    "    (\"Who was the first person to climb Mount Everest?\", \"NULL\"),\n",
    "    (\"What's the national bird of the United States?\", \"NULL\"),\n",
    "    (\"Who is the CEO of Tesla?\", \"NULL\"),\n",
    "    (\"What's the highest grossing movie of all time?\", \"NULL\"),\n",
    "    (\"Can you tell me a nursery rhyme?\", \"NULL\"),\n",
    "    (\"What's the national sport of Canada?\", \"NULL\"),\n",
    "    (\"Who is the Prime Minister of the United Kingdom?\", \"NULL\"),\n",
    "    (\"What's the deepest part of the ocean?\", \"NULL\"),\n",
    "    (\"Who composed the Fifth Symphony?\", \"NULL\"),\n",
    "    (\"What's the largest country in the world?\", \"NULL\"),\n",
    "    (\"Who is the fastest man in the world?\", \"NULL\"),\n",
    "    (\"What's the national dish of Spain?\", \"NULL\"),\n",
    "    (\"Who won the Nobel Prize in Literature last year?\", \"NULL\"),\n",
    "    (\"What's the smallest planet in the solar system?\", \"NULL\"),\n",
    "    (\"Who is the current Pope?\", \"NULL\"),\n",
    "    (\"What's the national anthem of France?\", \"NULL\"),\n",
    "    (\"Who was the first man on the moon?\", \"NULL\"),\n",
    "    (\"What's the oldest civilization in the world?\", \"NULL\"),\n",
    "    (\"Who is the most followed person on Instagram?\", \"NULL\"),\n",
    "    (\"What's the most spoken language in the world?\", \"NULL\"),\n",
    "    (\"Who is the director of 'Inception'?\", \"NULL\"),\n",
    "    (\"What's the national fruit of New Zealand?\", \"NULL\"),\n",
    "    (\"What's the weather like in London?\", \"NULL\"),\n",
    "    (\"Can you tell me a fun fact about cats?\", \"NULL\"),\n",
    "    (\"What's the current time in Tokyo?\", \"NULL\"),\n",
    "    (\"Can you recommend a good movie?\", \"NULL\"),\n",
    "    (\"What's the latest sports news?\", \"NULL\"),\n",
    "    (\"Tell me an interesting historical event.\", \"NULL\"),\n",
    "    (\"What's your favorite science fact?\", \"NULL\"),\n",
    "    (\"Can you play a trivia game?\", \"NULL\"),\n",
    "    (\"What's the capital of Sweden?\", \"NULL\"),\n",
    "    (\"Who won the last season of 'The Voice'?\", \"NULL\"),\n",
    "    (\"What's the tallest building in the world?\", \"NULL\"),\n",
    "    (\"Who is the current Prime Minister of Japan?\", \"NULL\"),\n",
    "    (\"What's the distance to Mars?\", \"NULL\"),\n",
    "    (\"Can you set an alarm for me?\", \"NULL\"),\n",
    "    (\"What's the secret to happiness?\", \"NULL\"),\n",
    "    (\"Can you tell me a brain teaser?\", \"NULL\"),\n",
    "    (\"What's the population of Brazil?\", \"NULL\"),\n",
    "    (\"Who wrote '1984'?\", \"NULL\"),\n",
    "    (\"What's the longest highway in the world?\", \"NULL\"),\n",
    "    (\"Can you translate 'good morning' to Italian?\", \"NULL\"),\n",
    "    (\"What's the speed of sound?\", \"NULL\"),\n",
    "    (\"Who invented the internet?\", \"NULL\"),\n",
    "    (\"What's the currency of Switzerland?\", \"NULL\"),\n",
    "    (\"Who sculpted 'The Thinker'?\", \"NULL\"),\n",
    "    (\"What's the largest continent in the world?\", \"NULL\"),\n",
    "    (\"Who is the most successful Olympian?\", \"NULL\"),\n",
    "    (\"What's the national animal of Scotland?\", \"NULL\"),\n",
    "    (\"Who discovered penicillin?\", \"NULL\"),\n",
    "    (\"What's the lifespan of a parrot?\", \"NULL\"),\n",
    "    (\"Can you tell me a palindrome?\", \"NULL\"),\n",
    "    (\"What's the national flower of the United States?\", \"NULL\"),\n",
    "    (\"Who is the author of 'The Hobbit'?\", \"NULL\"),\n",
    "    (\"What's the diameter of Jupiter?\", \"NULL\"),\n",
    "    (\"Who was the first woman to win a Nobel Prize?\", \"NULL\"),\n",
    "    (\"What's the national bird of Australia?\", \"NULL\"),\n",
    "    (\"Who is the CEO of Google?\", \"NULL\"),\n",
    "    (\"What's the highest grossing book of all time?\", \"NULL\"),\n",
    "    (\"Can you tell me a limerick?\", \"NULL\"),\n",
    "    (\"What's the national sport of Japan?\", \"NULL\"),\n",
    "    (\"Who is the President of Russia?\", \"NULL\"),\n",
    "    (\"What's the deepest cave in the world?\", \"NULL\"),\n",
    "    (\"Who composed the 'Four Seasons'?\", \"NULL\"),\n",
    "    (\"What's the smallest ocean in the world?\", \"NULL\"),\n",
    "    (\"Who is the fastest woman in the world?\", \"NULL\"),\n",
    "    (\"What's the national dish of Germany?\", \"NULL\"),\n",
    "    (\"Who won the Nobel Prize in Peace last year?\", \"NULL\"),\n",
    "    (\"What's the hottest planet in the solar system?\", \"NULL\"),\n",
    "    (\"Who is the current Secretary-General of the United Nations?\", \"NULL\"),\n",
    "    (\"What's the national anthem of Australia?\", \"NULL\"),\n",
    "    (\"Who was the first woman in the moon?\", \"NULL\"),\n",
    "    (\"Who is the author of 'The Catcher in the Rye'?\", \"NULL\"),\n",
    "]"
   ]
  },
  {
   "cell_type": "code",
   "execution_count": 9,
   "metadata": {},
   "outputs": [],
   "source": [
    "import statistics\n",
    "\n",
    "def max_threshold_test(threshold: float, scores: list):\n",
    "    return max(scores) > threshold\n",
    "\n",
    "\n",
    "def mean_threshold_test(threshold: float, scores: list):\n",
    "    return statistics.mean(scores) > threshold\n",
    "\n",
    "\n"
   ]
  },
  {
   "cell_type": "code",
   "execution_count": 25,
   "metadata": {},
   "outputs": [
    {
     "name": "stderr",
     "output_type": "stream",
     "text": [
      "  0%|          | 0/252 [00:00<?, ?it/s]"
     ]
    },
    {
     "name": "stderr",
     "output_type": "stream",
     "text": [
      "100%|██████████| 252/252 [07:12<00:00,  1.71s/it]\n"
     ]
    }
   ],
   "source": [
    "from tqdm.auto import tqdm\n",
    "import time\n",
    "\n",
    "results = {}\n",
    "# thresholds = [0.5, 0.55, 0.6, 0.65, 0.7, 0.75, 0.8, 0.85, 0.9, 0.95]\n",
    "# thresholds = [0.75, 0.77, 0.79, 0.81, 0.83, 0.85, 0.87, 0.89, 0.91]\n",
    "thresholds = [0.81, 0.82, 0.83, 0.84, 0.85]\n",
    "threshold_method = 'max' # 'mean', 'max'\n",
    "\n",
    "for q, expected in tqdm(queries):\n",
    "\n",
    "    # Attempt Query 3 Times.\n",
    "    out = 'UNDEFINED_CLASS'  # Initialize actual_decision here\n",
    "    all_attempts_failed = True  # Initialize flag here\n",
    "    for i in range(3):\n",
    "        try:\n",
    "            start_time = time.time()  # Start timer\n",
    "            out = dl._query(q, top_k=5)\n",
    "            end_time = time.time()  # End timer\n",
    "            all_attempts_failed = False  # If we reach this line, the attempt was successful\n",
    "            break\n",
    "        except Exception as e:\n",
    "            print(f\"\\t\\t\\tAttempt {i+1} failed with error: {str(e)}\")\n",
    "            if i < 2:  # Don't sleep after the last attempt\n",
    "                time.sleep(5)\n",
    "    if all_attempts_failed:\n",
    "        print(\"\\t\\t\\tAll attempts failed. Skipping this utterance.\")\n",
    "        continue  # Skip to the next utterance\n",
    "    \n",
    "    # Determine Top Class and the Cosine-Similarity Scores of Vectors that Contributed to Top Class score.\n",
    "    top_class, top_class_scores = dl._semantic_classify(query_results=out)\n",
    "\n",
    "    # test if the top score is above the threshold for range of thresholds\n",
    "    for threshold in thresholds:\n",
    "        if threshold not in results:\n",
    "            results[threshold] = []\n",
    "        if threshold_method == 'mean':\n",
    "            class_pass = mean_threshold_test(threshold, top_class_scores)\n",
    "        elif threshold_method == 'max':\n",
    "            class_pass = max_threshold_test(threshold, top_class_scores)\n",
    "        if class_pass:\n",
    "            pass\n",
    "        else:\n",
    "            top_class = \"NULL\"\n",
    "        correct = top_class == expected\n",
    "        results[threshold].append(correct)"
   ]
  },
  {
   "cell_type": "code",
   "execution_count": 26,
   "metadata": {},
   "outputs": [
    {
     "name": "stdout",
     "output_type": "stream",
     "text": [
      "Threshold: 0.81, Accuracy: 0.8373015873015873\n",
      "Threshold: 0.82, Accuracy: 0.8571428571428571\n",
      "Threshold: 0.83, Accuracy: 0.8412698412698413\n",
      "Threshold: 0.84, Accuracy: 0.8333333333333334\n",
      "Threshold: 0.85, Accuracy: 0.8214285714285714\n"
     ]
    }
   ],
   "source": [
    "for k, v in results.items():\n",
    "    print(f\"Threshold: {k}, Accuracy: {sum(v) / len(v)}\")"
   ]
  },
  {
   "cell_type": "code",
   "execution_count": null,
   "metadata": {},
   "outputs": [],
   "source": []
  },
  {
   "cell_type": "markdown",
   "metadata": {},
   "source": [
    "## SVM Classifier Approach for Other or Decision"
   ]
  },
  {
   "cell_type": "markdown",
   "metadata": {},
   "source": [
    "Define SVM."
   ]
  },
  {
   "cell_type": "code",
   "execution_count": 51,
   "metadata": {},
   "outputs": [],
   "source": [
    "from sklearn import svm\n",
    "from sklearn.preprocessing import LabelEncoder\n",
    "from tqdm import tqdm\n",
    "import numpy as np\n",
    "from sklearn import svm\n",
    "from sklearn.preprocessing import LabelEncoder\n",
    "\n",
    "def svm_decision_or_other_train(decisions: list[Decision]):\n",
    "\n",
    "    # Prepare training data\n",
    "    X_train = []  # feature vectors\n",
    "    y_train = []  # class labels\n",
    "\n",
    "    for decision in tqdm(decisions, desc=\"Determining Feature Vectors\"):\n",
    "        for utterance in decision.utterances:\n",
    "            all_attempts_failed = True  # Initialize flag here\n",
    "            for i in range(3):\n",
    "                try:\n",
    "                    # feature_vector = dl._query(utterance, top_k=5)\n",
    "                    # feature_vector = np.squeeze(dl.encoder([utterance]))  # Get the embedding of the utterance\n",
    "                    feature_vector = dl.encoder([utterance])[0]  # Get the embedding of the utterance\n",
    "                    all_attempts_failed = False  # If we reach this line, the attempt was successful\n",
    "                    break\n",
    "                except Exception as e:\n",
    "                    print(f\"Attempt {i+1} failed with error: {str(e)}\")\n",
    "                    if i < 2:  # Don't sleep after the last attempt\n",
    "                        time.sleep(5)\n",
    "            if all_attempts_failed:\n",
    "                print(\"All attempts failed. Skipping this utterance.\")\n",
    "                continue  # Skip to the next utterance\n",
    "            X_train.append(feature_vector)\n",
    "            y_train.append(decision.name)\n",
    "            \n",
    "    # # Add 'other' class\n",
    "    # other_utterances = [...]  # add your list of 'other' utterances here\n",
    "    # for utterance in other_utterances:\n",
    "    #     feature_vector = dl._query(utterance, top_k=5)\n",
    "    #     X_train.append(feature_vector)\n",
    "    #     y_train.append('other')\n",
    "\n",
    "    # Encode class labels\n",
    "    le = LabelEncoder()\n",
    "    y_train = le.fit_transform(y_train)\n",
    "\n",
    "    # Train SVM\n",
    "    clf = svm.SVC(probability=True)  # Enable probability estimates\n",
    "    clf.fit(X_train, y_train)\n",
    "\n",
    "    return clf"
   ]
  },
  {
   "cell_type": "markdown",
   "metadata": {},
   "source": [
    "Train SVM."
   ]
  },
  {
   "cell_type": "code",
   "execution_count": 52,
   "metadata": {},
   "outputs": [
    {
     "name": "stderr",
     "output_type": "stream",
     "text": [
      "Determining Feature Vectors:   0%|          | 0/7 [00:00<?, ?it/s]"
     ]
    },
    {
     "name": "stdout",
     "output_type": "stream",
     "text": [
      "Attempt 1 failed with error: The server had an error while processing your request. Sorry about that! You can retry your request, or contact us through our help center at help.openai.com if the error persists. (Please include the request ID f6edd197b24622c5aff66b4ed79d59a5 in your message.) {\n",
      "  \"error\": {\n",
      "    \"message\": \"The server had an error while processing your request. Sorry about that! You can retry your request, or contact us through our help center at help.openai.com if the error persists. (Please include the request ID f6edd197b24622c5aff66b4ed79d59a5 in your message.)\",\n",
      "    \"type\": \"server_error\",\n",
      "    \"param\": null,\n",
      "    \"code\": null\n",
      "  }\n",
      "}\n",
      " 500 {'error': {'message': 'The server had an error while processing your request. Sorry about that! You can retry your request, or contact us through our help center at help.openai.com if the error persists. (Please include the request ID f6edd197b24622c5aff66b4ed79d59a5 in your message.)', 'type': 'server_error', 'param': None, 'code': None}} {'Date': 'Thu, 09 Nov 2023 06:08:19 GMT', 'Content-Type': 'application/json', 'Content-Length': '366', 'Connection': 'keep-alive', 'access-control-allow-origin': '*', 'openai-organization': 'montecito-b27bqi', 'openai-processing-ms': '30007', 'openai-version': '2020-10-01', 'strict-transport-security': 'max-age=15724800; includeSubDomains', 'x-ratelimit-limit-requests': '10000', 'x-ratelimit-limit-tokens': '5000000', 'x-ratelimit-remaining-requests': '9999', 'x-ratelimit-remaining-tokens': '4999991', 'x-ratelimit-reset-requests': '6ms', 'x-ratelimit-reset-tokens': '0s', 'x-request-id': 'f6edd197b24622c5aff66b4ed79d59a5', 'CF-Cache-Status': 'DYNAMIC', 'Server': 'cloudflare', 'CF-RAY': '8233e0af997f125e-DXB', 'alt-svc': 'h3=\":443\"; ma=86400'}\n"
     ]
    },
    {
     "name": "stderr",
     "output_type": "stream",
     "text": [
      "Determining Feature Vectors:  43%|████▎     | 3/7 [02:01<02:20, 35.14s/it]"
     ]
    },
    {
     "name": "stdout",
     "output_type": "stream",
     "text": [
      "Attempt 1 failed with error: The server had an error processing your request. Sorry about that! You can retry your request, or contact us through our help center at help.openai.com if you keep seeing this error. (Please include the request ID 17813e9f7832a90495a311cd08467d10 in your email.) {\n",
      "  \"error\": {\n",
      "    \"message\": \"The server had an error processing your request. Sorry about that! You can retry your request, or contact us through our help center at help.openai.com if you keep seeing this error. (Please include the request ID 17813e9f7832a90495a311cd08467d10 in your email.)\",\n",
      "    \"type\": \"server_error\",\n",
      "    \"param\": null,\n",
      "    \"code\": null\n",
      "  }\n",
      "}\n",
      " 500 {'error': {'message': 'The server had an error processing your request. Sorry about that! You can retry your request, or contact us through our help center at help.openai.com if you keep seeing this error. (Please include the request ID 17813e9f7832a90495a311cd08467d10 in your email.)', 'type': 'server_error', 'param': None, 'code': None}} {'Date': 'Thu, 09 Nov 2023 06:10:04 GMT', 'Content-Type': 'application/json', 'Content-Length': '366', 'Connection': 'keep-alive', 'access-control-allow-origin': '*', 'openai-organization': 'montecito-b27bqi', 'openai-processing-ms': '30', 'openai-version': '2020-10-01', 'strict-transport-security': 'max-age=15724800; includeSubDomains', 'x-ratelimit-limit-requests': '10000', 'x-ratelimit-limit-tokens': '5000000', 'x-ratelimit-remaining-requests': '9999', 'x-ratelimit-remaining-tokens': '4999992', 'x-ratelimit-reset-requests': '6ms', 'x-ratelimit-reset-tokens': '0s', 'x-request-id': '17813e9f7832a90495a311cd08467d10', 'CF-Cache-Status': 'DYNAMIC', 'Server': 'cloudflare', 'CF-RAY': '8233e3f78ba7125e-DXB', 'alt-svc': 'h3=\":443\"; ma=86400'}\n"
     ]
    },
    {
     "name": "stderr",
     "output_type": "stream",
     "text": [
      "Determining Feature Vectors:  71%|███████▏  | 5/7 [02:59<00:57, 28.79s/it]"
     ]
    },
    {
     "name": "stdout",
     "output_type": "stream",
     "text": [
      "Attempt 1 failed with error: The server is overloaded or not ready yet.\n",
      "Attempt 1 failed with error: The server had an error processing your request. Sorry about that! You can retry your request, or contact us through our help center at help.openai.com if you keep seeing this error. (Please include the request ID 84bd8637c6f2a14cf7f788cd0833ea75 in your email.) {\n",
      "  \"error\": {\n",
      "    \"message\": \"The server had an error processing your request. Sorry about that! You can retry your request, or contact us through our help center at help.openai.com if you keep seeing this error. (Please include the request ID 84bd8637c6f2a14cf7f788cd0833ea75 in your email.)\",\n",
      "    \"type\": \"server_error\",\n",
      "    \"param\": null,\n",
      "    \"code\": null\n",
      "  }\n",
      "}\n",
      " 500 {'error': {'message': 'The server had an error processing your request. Sorry about that! You can retry your request, or contact us through our help center at help.openai.com if you keep seeing this error. (Please include the request ID 84bd8637c6f2a14cf7f788cd0833ea75 in your email.)', 'type': 'server_error', 'param': None, 'code': None}} {'Date': 'Thu, 09 Nov 2023 06:10:50 GMT', 'Content-Type': 'application/json', 'Content-Length': '366', 'Connection': 'keep-alive', 'access-control-allow-origin': '*', 'openai-organization': 'montecito-b27bqi', 'openai-processing-ms': '20', 'openai-version': '2020-10-01', 'strict-transport-security': 'max-age=15724800; includeSubDomains', 'x-ratelimit-limit-requests': '10000', 'x-ratelimit-limit-tokens': '5000000', 'x-ratelimit-remaining-requests': '9999', 'x-ratelimit-remaining-tokens': '4999986', 'x-ratelimit-reset-requests': '6ms', 'x-ratelimit-reset-tokens': '0s', 'x-request-id': '84bd8637c6f2a14cf7f788cd0833ea75', 'CF-Cache-Status': 'DYNAMIC', 'Server': 'cloudflare', 'CF-RAY': '8233e515b80cb478-DXB', 'alt-svc': 'h3=\":443\"; ma=86400'}\n",
      "Attempt 1 failed with error: The server had an error processing your request. Sorry about that! You can retry your request, or contact us through our help center at help.openai.com if you keep seeing this error. (Please include the request ID 6d1be7caddb07b95781184997fe104d7 in your email.) {\n",
      "  \"error\": {\n",
      "    \"message\": \"The server had an error processing your request. Sorry about that! You can retry your request, or contact us through our help center at help.openai.com if you keep seeing this error. (Please include the request ID 6d1be7caddb07b95781184997fe104d7 in your email.)\",\n",
      "    \"type\": \"server_error\",\n",
      "    \"param\": null,\n",
      "    \"code\": null\n",
      "  }\n",
      "}\n",
      " 500 {'error': {'message': 'The server had an error processing your request. Sorry about that! You can retry your request, or contact us through our help center at help.openai.com if you keep seeing this error. (Please include the request ID 6d1be7caddb07b95781184997fe104d7 in your email.)', 'type': 'server_error', 'param': None, 'code': None}} {'Date': 'Thu, 09 Nov 2023 06:11:05 GMT', 'Content-Type': 'application/json', 'Content-Length': '366', 'Connection': 'keep-alive', 'access-control-allow-origin': '*', 'openai-organization': 'montecito-b27bqi', 'openai-processing-ms': '32', 'openai-version': '2020-10-01', 'strict-transport-security': 'max-age=15724800; includeSubDomains', 'x-ratelimit-limit-requests': '10000', 'x-ratelimit-limit-tokens': '5000000', 'x-ratelimit-remaining-requests': '9999', 'x-ratelimit-remaining-tokens': '4999986', 'x-ratelimit-reset-requests': '6ms', 'x-ratelimit-reset-tokens': '0s', 'x-request-id': '6d1be7caddb07b95781184997fe104d7', 'CF-Cache-Status': 'DYNAMIC', 'Server': 'cloudflare', 'CF-RAY': '8233e573ac64b478-DXB', 'alt-svc': 'h3=\":443\"; ma=86400'}\n"
     ]
    },
    {
     "name": "stderr",
     "output_type": "stream",
     "text": [
      "Determining Feature Vectors: 100%|██████████| 7/7 [03:45<00:00, 32.15s/it]\n"
     ]
    }
   ],
   "source": [
    "clf = svm_decision_or_other_train(decisions=decisions)"
   ]
  },
  {
   "cell_type": "code",
   "execution_count": 56,
   "metadata": {},
   "outputs": [
    {
     "ename": "AttributeError",
     "evalue": "'list' object has no attribute 'shape'",
     "output_type": "error",
     "traceback": [
      "\u001b[1;31m---------------------------------------------------------------------------\u001b[0m",
      "\u001b[1;31mAttributeError\u001b[0m                            Traceback (most recent call last)",
      "\u001b[1;32mc:\\Users\\Siraj\\Documents\\Personal\\Work\\Aurelio\\20231106 Semantic Layer\\Repo\\semantic-layer\\00_performance_tests.ipynb Cell 14\u001b[0m line \u001b[0;36m4\n\u001b[0;32m      <a href='vscode-notebook-cell:/c%3A/Users/Siraj/Documents/Personal/Work/Aurelio/20231106%20Semantic%20Layer/Repo/semantic-layer/00_performance_tests.ipynb#Y163sZmlsZQ%3D%3D?line=0'>1</a>\u001b[0m feature_vector \u001b[39m=\u001b[39m dl\u001b[39m.\u001b[39mencoder([\n\u001b[0;32m      <a href='vscode-notebook-cell:/c%3A/Users/Siraj/Documents/Personal/Work/Aurelio/20231106%20Semantic%20Layer/Repo/semantic-layer/00_performance_tests.ipynb#Y163sZmlsZQ%3D%3D?line=1'>2</a>\u001b[0m     \u001b[39m\"\u001b[39m\u001b[39mHi\u001b[39m\u001b[39m\"\u001b[39m\n\u001b[0;32m      <a href='vscode-notebook-cell:/c%3A/Users/Siraj/Documents/Personal/Work/Aurelio/20231106%20Semantic%20Layer/Repo/semantic-layer/00_performance_tests.ipynb#Y163sZmlsZQ%3D%3D?line=2'>3</a>\u001b[0m ])\n\u001b[1;32m----> <a href='vscode-notebook-cell:/c%3A/Users/Siraj/Documents/Personal/Work/Aurelio/20231106%20Semantic%20Layer/Repo/semantic-layer/00_performance_tests.ipynb#Y163sZmlsZQ%3D%3D?line=3'>4</a>\u001b[0m \u001b[39mprint\u001b[39m(\u001b[39mf\u001b[39m\u001b[39m\"\u001b[39m\u001b[39mShape of feature_vector: \u001b[39m\u001b[39m{\u001b[39;00mfeature_vector[\u001b[39m0\u001b[39;49m]\u001b[39m.\u001b[39;49mshape\u001b[39m}\u001b[39;00m\u001b[39m\"\u001b[39m)\n",
      "\u001b[1;31mAttributeError\u001b[0m: 'list' object has no attribute 'shape'"
     ]
    }
   ],
   "source": []
  },
  {
   "cell_type": "code",
   "execution_count": 59,
   "metadata": {},
   "outputs": [
    {
     "data": {
      "text/plain": [
       "(1536,)"
      ]
     },
     "execution_count": 59,
     "metadata": {},
     "output_type": "execute_result"
    }
   ],
   "source": [
    "np.array(feature_vector[0]).shape"
   ]
  },
  {
   "cell_type": "code",
   "execution_count": 60,
   "metadata": {},
   "outputs": [
    {
     "data": {
      "text/plain": [
       "-0.03633027896285057"
      ]
     },
     "execution_count": 60,
     "metadata": {},
     "output_type": "execute_result"
    }
   ],
   "source": [
    "feature_vector[0][0]"
   ]
  },
  {
   "cell_type": "code",
   "execution_count": 61,
   "metadata": {},
   "outputs": [],
   "source": [
    "def svm_decision_or_other_classify(feature_vector, top_class, threshold, clf):\n",
    "    # Get classification probabilities\n",
    "    predicted_probabilities = clf.predict_proba([feature_vector])\n",
    "\n",
    "    # Check if the maximum probability is below the threshold\n",
    "    if predicted_probabilities.max() < threshold:\n",
    "        return 'NULL'\n",
    "    else:\n",
    "        return top_class\n",
    "\n"
   ]
  },
  {
   "cell_type": "code",
   "execution_count": 64,
   "metadata": {},
   "outputs": [
    {
     "name": "stderr",
     "output_type": "stream",
     "text": [
      "  5%|▍         | 12/252 [00:40<13:28,  3.37s/it]"
     ]
    },
    {
     "name": "stdout",
     "output_type": "stream",
     "text": [
      "\t\t\tAttempt 1 failed with error: The server had an error processing your request. Sorry about that! You can retry your request, or contact us through our help center at help.openai.com if you keep seeing this error. (Please include the request ID cd05b78db0c35b2033efe05ad22e2c90 in your email.) {\n",
      "  \"error\": {\n",
      "    \"message\": \"The server had an error processing your request. Sorry about that! You can retry your request, or contact us through our help center at help.openai.com if you keep seeing this error. (Please include the request ID cd05b78db0c35b2033efe05ad22e2c90 in your email.)\",\n",
      "    \"type\": \"server_error\",\n",
      "    \"param\": null,\n",
      "    \"code\": null\n",
      "  }\n",
      "}\n",
      " 500 {'error': {'message': 'The server had an error processing your request. Sorry about that! You can retry your request, or contact us through our help center at help.openai.com if you keep seeing this error. (Please include the request ID cd05b78db0c35b2033efe05ad22e2c90 in your email.)', 'type': 'server_error', 'param': None, 'code': None}} {'Date': 'Thu, 09 Nov 2023 06:19:27 GMT', 'Content-Type': 'application/json', 'Content-Length': '366', 'Connection': 'keep-alive', 'access-control-allow-origin': '*', 'openai-organization': 'montecito-b27bqi', 'openai-processing-ms': '26', 'openai-version': '2020-10-01', 'strict-transport-security': 'max-age=15724800; includeSubDomains', 'x-ratelimit-limit-requests': '10000', 'x-ratelimit-limit-tokens': '5000000', 'x-ratelimit-remaining-requests': '9999', 'x-ratelimit-remaining-tokens': '4999983', 'x-ratelimit-reset-requests': '6ms', 'x-ratelimit-reset-tokens': '0s', 'x-request-id': 'cd05b78db0c35b2033efe05ad22e2c90', 'CF-Cache-Status': 'DYNAMIC', 'Server': 'cloudflare', 'CF-RAY': '8233f1b7cbf0124f-DXB', 'alt-svc': 'h3=\":443\"; ma=86400'}\n"
     ]
    },
    {
     "name": "stderr",
     "output_type": "stream",
     "text": [
      "  7%|▋         | 17/252 [01:04<15:08,  3.87s/it]"
     ]
    },
    {
     "name": "stdout",
     "output_type": "stream",
     "text": [
      "\t\t\tAttempt 1 failed with error: The server had an error processing your request. Sorry about that! You can retry your request, or contact us through our help center at help.openai.com if you keep seeing this error. (Please include the request ID 99a86555ea183ebe4bc4c0832331dbd6 in your email.) {\n",
      "  \"error\": {\n",
      "    \"message\": \"The server had an error processing your request. Sorry about that! You can retry your request, or contact us through our help center at help.openai.com if you keep seeing this error. (Please include the request ID 99a86555ea183ebe4bc4c0832331dbd6 in your email.)\",\n",
      "    \"type\": \"server_error\",\n",
      "    \"param\": null,\n",
      "    \"code\": null\n",
      "  }\n",
      "}\n",
      " 500 {'error': {'message': 'The server had an error processing your request. Sorry about that! You can retry your request, or contact us through our help center at help.openai.com if you keep seeing this error. (Please include the request ID 99a86555ea183ebe4bc4c0832331dbd6 in your email.)', 'type': 'server_error', 'param': None, 'code': None}} {'Date': 'Thu, 09 Nov 2023 06:19:50 GMT', 'Content-Type': 'application/json', 'Content-Length': '366', 'Connection': 'keep-alive', 'access-control-allow-origin': '*', 'openai-organization': 'montecito-b27bqi', 'openai-processing-ms': '27', 'openai-version': '2020-10-01', 'strict-transport-security': 'max-age=15724800; includeSubDomains', 'x-ratelimit-limit-requests': '10000', 'x-ratelimit-limit-tokens': '5000000', 'x-ratelimit-remaining-requests': '9999', 'x-ratelimit-remaining-tokens': '4999986', 'x-ratelimit-reset-requests': '6ms', 'x-ratelimit-reset-tokens': '0s', 'x-request-id': '99a86555ea183ebe4bc4c0832331dbd6', 'CF-Cache-Status': 'DYNAMIC', 'Server': 'cloudflare', 'CF-RAY': '8233f2454a4a124f-DXB', 'alt-svc': 'h3=\":443\"; ma=86400'}\n"
     ]
    },
    {
     "name": "stderr",
     "output_type": "stream",
     "text": [
      " 21%|██        | 53/252 [03:28<11:10,  3.37s/it]"
     ]
    },
    {
     "name": "stdout",
     "output_type": "stream",
     "text": [
      "\t\t\tAttempt 1 failed with error: The server had an error processing your request. Sorry about that! You can retry your request, or contact us through our help center at help.openai.com if you keep seeing this error. (Please include the request ID 3f181e077b2deb35a237ce1e6aed1a0c in your email.) {\n",
      "  \"error\": {\n",
      "    \"message\": \"The server had an error processing your request. Sorry about that! You can retry your request, or contact us through our help center at help.openai.com if you keep seeing this error. (Please include the request ID 3f181e077b2deb35a237ce1e6aed1a0c in your email.)\",\n",
      "    \"type\": \"server_error\",\n",
      "    \"param\": null,\n",
      "    \"code\": null\n",
      "  }\n",
      "}\n",
      " 500 {'error': {'message': 'The server had an error processing your request. Sorry about that! You can retry your request, or contact us through our help center at help.openai.com if you keep seeing this error. (Please include the request ID 3f181e077b2deb35a237ce1e6aed1a0c in your email.)', 'type': 'server_error', 'param': None, 'code': None}} {'Date': 'Thu, 09 Nov 2023 06:22:16 GMT', 'Content-Type': 'application/json', 'Content-Length': '366', 'Connection': 'keep-alive', 'access-control-allow-origin': '*', 'openai-organization': 'montecito-b27bqi', 'openai-processing-ms': '34', 'openai-version': '2020-10-01', 'strict-transport-security': 'max-age=15724800; includeSubDomains', 'x-ratelimit-limit-requests': '10000', 'x-ratelimit-limit-tokens': '5000000', 'x-ratelimit-remaining-requests': '9999', 'x-ratelimit-remaining-tokens': '4999991', 'x-ratelimit-reset-requests': '6ms', 'x-ratelimit-reset-tokens': '0s', 'x-request-id': '3f181e077b2deb35a237ce1e6aed1a0c', 'CF-Cache-Status': 'DYNAMIC', 'Server': 'cloudflare', 'CF-RAY': '8233f5d47f5cb479-DXB', 'alt-svc': 'h3=\":443\"; ma=86400'}\n"
     ]
    },
    {
     "name": "stderr",
     "output_type": "stream",
     "text": [
      " 36%|███▌      | 90/252 [05:58<09:42,  3.60s/it]"
     ]
    },
    {
     "name": "stdout",
     "output_type": "stream",
     "text": [
      "\t\t\tAttempt 1 failed with error: The server had an error processing your request. Sorry about that! You can retry your request, or contact us through our help center at help.openai.com if you keep seeing this error. (Please include the request ID 42c6258fd8e67cde0836b425a846797f in your email.) {\n",
      "  \"error\": {\n",
      "    \"message\": \"The server had an error processing your request. Sorry about that! You can retry your request, or contact us through our help center at help.openai.com if you keep seeing this error. (Please include the request ID 42c6258fd8e67cde0836b425a846797f in your email.)\",\n",
      "    \"type\": \"server_error\",\n",
      "    \"param\": null,\n",
      "    \"code\": null\n",
      "  }\n",
      "}\n",
      " 500 {'error': {'message': 'The server had an error processing your request. Sorry about that! You can retry your request, or contact us through our help center at help.openai.com if you keep seeing this error. (Please include the request ID 42c6258fd8e67cde0836b425a846797f in your email.)', 'type': 'server_error', 'param': None, 'code': None}} {'Date': 'Thu, 09 Nov 2023 06:24:44 GMT', 'Content-Type': 'application/json', 'Content-Length': '366', 'Connection': 'keep-alive', 'access-control-allow-origin': '*', 'openai-organization': 'montecito-b27bqi', 'openai-processing-ms': '20', 'openai-version': '2020-10-01', 'strict-transport-security': 'max-age=15724800; includeSubDomains', 'x-ratelimit-limit-requests': '10000', 'x-ratelimit-limit-tokens': '5000000', 'x-ratelimit-remaining-requests': '9999', 'x-ratelimit-remaining-tokens': '4999980', 'x-ratelimit-reset-requests': '6ms', 'x-ratelimit-reset-tokens': '0s', 'x-request-id': '42c6258fd8e67cde0836b425a846797f', 'CF-Cache-Status': 'DYNAMIC', 'Server': 'cloudflare', 'CF-RAY': '8233f9723835b482-DXB', 'alt-svc': 'h3=\":443\"; ma=86400'}\n"
     ]
    },
    {
     "name": "stderr",
     "output_type": "stream",
     "text": [
      " 47%|████▋     | 119/252 [08:02<10:49,  4.88s/it]"
     ]
    },
    {
     "name": "stdout",
     "output_type": "stream",
     "text": [
      "\t\t\tAttempt 1 failed with error: The server had an error processing your request. Sorry about that! You can retry your request, or contact us through our help center at help.openai.com if you keep seeing this error. (Please include the request ID 9a36bf684e805253a946a00fa35b611b in your email.) {\n",
      "  \"error\": {\n",
      "    \"message\": \"The server had an error processing your request. Sorry about that! You can retry your request, or contact us through our help center at help.openai.com if you keep seeing this error. (Please include the request ID 9a36bf684e805253a946a00fa35b611b in your email.)\",\n",
      "    \"type\": \"server_error\",\n",
      "    \"param\": null,\n",
      "    \"code\": null\n",
      "  }\n",
      "}\n",
      " 500 {'error': {'message': 'The server had an error processing your request. Sorry about that! You can retry your request, or contact us through our help center at help.openai.com if you keep seeing this error. (Please include the request ID 9a36bf684e805253a946a00fa35b611b in your email.)', 'type': 'server_error', 'param': None, 'code': None}} {'Date': 'Thu, 09 Nov 2023 06:26:51 GMT', 'Content-Type': 'application/json', 'Content-Length': '366', 'Connection': 'keep-alive', 'access-control-allow-origin': '*', 'openai-organization': 'montecito-b27bqi', 'openai-processing-ms': '23', 'openai-version': '2020-10-01', 'strict-transport-security': 'max-age=15724800; includeSubDomains', 'x-ratelimit-limit-requests': '10000', 'x-ratelimit-limit-tokens': '5000000', 'x-ratelimit-remaining-requests': '9999', 'x-ratelimit-remaining-tokens': '4999986', 'x-ratelimit-reset-requests': '6ms', 'x-ratelimit-reset-tokens': '0s', 'x-request-id': '9a36bf684e805253a946a00fa35b611b', 'CF-Cache-Status': 'DYNAMIC', 'Server': 'cloudflare', 'CF-RAY': '8233fc8d28aeb482-DXB', 'alt-svc': 'h3=\":443\"; ma=86400'}\n"
     ]
    },
    {
     "name": "stderr",
     "output_type": "stream",
     "text": [
      " 50%|█████     | 126/252 [08:46<12:53,  6.14s/it]"
     ]
    },
    {
     "name": "stdout",
     "output_type": "stream",
     "text": [
      "\t\t\tAttempt 1 failed with error: The server had an error while processing your request. Sorry about that! You can retry your request, or contact us through our help center at help.openai.com if the error persists. (Please include the request ID f03ce9fe8e05d02c0ec7e930ddcdcd3f in your message.) {\n",
      "  \"error\": {\n",
      "    \"message\": \"The server had an error while processing your request. Sorry about that! You can retry your request, or contact us through our help center at help.openai.com if the error persists. (Please include the request ID f03ce9fe8e05d02c0ec7e930ddcdcd3f in your message.)\",\n",
      "    \"type\": \"server_error\",\n",
      "    \"param\": null,\n",
      "    \"code\": null\n",
      "  }\n",
      "}\n",
      " 500 {'error': {'message': 'The server had an error while processing your request. Sorry about that! You can retry your request, or contact us through our help center at help.openai.com if the error persists. (Please include the request ID f03ce9fe8e05d02c0ec7e930ddcdcd3f in your message.)', 'type': 'server_error', 'param': None, 'code': None}} {'Date': 'Thu, 09 Nov 2023 06:28:05 GMT', 'Content-Type': 'application/json', 'Content-Length': '366', 'Connection': 'keep-alive', 'access-control-allow-origin': '*', 'openai-organization': 'montecito-b27bqi', 'openai-processing-ms': '30007', 'openai-version': '2020-10-01', 'strict-transport-security': 'max-age=15724800; includeSubDomains', 'x-ratelimit-limit-requests': '10000', 'x-ratelimit-limit-tokens': '5000000', 'x-ratelimit-remaining-requests': '9999', 'x-ratelimit-remaining-tokens': '4999996', 'x-ratelimit-reset-requests': '6ms', 'x-ratelimit-reset-tokens': '0s', 'x-request-id': 'f03ce9fe8e05d02c0ec7e930ddcdcd3f', 'CF-Cache-Status': 'DYNAMIC', 'Server': 'cloudflare', 'CF-RAY': '8233fd9f1d39b47c-DXB', 'alt-svc': 'h3=\":443\"; ma=86400'}\n"
     ]
    },
    {
     "name": "stderr",
     "output_type": "stream",
     "text": [
      " 53%|█████▎    | 134/252 [09:53<09:06,  4.64s/it]"
     ]
    },
    {
     "name": "stdout",
     "output_type": "stream",
     "text": [
      "\t\t\tAttempt 1 failed with error: The server had an error while processing your request. Sorry about that! You can retry your request, or contact us through our help center at help.openai.com if the error persists. (Please include the request ID 376d504e8ecf78c6da87332782891f24 in your message.) {\n",
      "  \"error\": {\n",
      "    \"message\": \"The server had an error while processing your request. Sorry about that! You can retry your request, or contact us through our help center at help.openai.com if the error persists. (Please include the request ID 376d504e8ecf78c6da87332782891f24 in your message.)\",\n",
      "    \"type\": \"server_error\",\n",
      "    \"param\": null,\n",
      "    \"code\": null\n",
      "  }\n",
      "}\n",
      " 500 {'error': {'message': 'The server had an error while processing your request. Sorry about that! You can retry your request, or contact us through our help center at help.openai.com if the error persists. (Please include the request ID 376d504e8ecf78c6da87332782891f24 in your message.)', 'type': 'server_error', 'param': None, 'code': None}} {'Date': 'Thu, 09 Nov 2023 06:29:09 GMT', 'Content-Type': 'application/json', 'Content-Length': '366', 'Connection': 'keep-alive', 'access-control-allow-origin': '*', 'openai-organization': 'montecito-b27bqi', 'openai-processing-ms': '30009', 'openai-version': '2020-10-01', 'strict-transport-security': 'max-age=15724800; includeSubDomains', 'x-ratelimit-limit-requests': '10000', 'x-ratelimit-limit-tokens': '5000000', 'x-ratelimit-remaining-requests': '9999', 'x-ratelimit-remaining-tokens': '4999993', 'x-ratelimit-reset-requests': '6ms', 'x-ratelimit-reset-tokens': '0s', 'x-request-id': '376d504e8ecf78c6da87332782891f24', 'CF-Cache-Status': 'DYNAMIC', 'Server': 'cloudflare', 'CF-RAY': '8233ff31ad13b47c-DXB', 'alt-svc': 'h3=\":443\"; ma=86400'}\n"
     ]
    },
    {
     "name": "stderr",
     "output_type": "stream",
     "text": [
      " 77%|███████▋  | 194/252 [14:56<03:11,  3.31s/it]"
     ]
    },
    {
     "name": "stdout",
     "output_type": "stream",
     "text": [
      "\t\t\tAttempt 1 failed with error: The server had an error processing your request. Sorry about that! You can retry your request, or contact us through our help center at help.openai.com if you keep seeing this error. (Please include the request ID a61243b5910e1fda26c5f4ea548ade71 in your email.) {\n",
      "  \"error\": {\n",
      "    \"message\": \"The server had an error processing your request. Sorry about that! You can retry your request, or contact us through our help center at help.openai.com if you keep seeing this error. (Please include the request ID a61243b5910e1fda26c5f4ea548ade71 in your email.)\",\n",
      "    \"type\": \"server_error\",\n",
      "    \"param\": null,\n",
      "    \"code\": null\n",
      "  }\n",
      "}\n",
      " 500 {'error': {'message': 'The server had an error processing your request. Sorry about that! You can retry your request, or contact us through our help center at help.openai.com if you keep seeing this error. (Please include the request ID a61243b5910e1fda26c5f4ea548ade71 in your email.)', 'type': 'server_error', 'param': None, 'code': None}} {'Date': 'Thu, 09 Nov 2023 06:33:44 GMT', 'Content-Type': 'application/json', 'Content-Length': '366', 'Connection': 'keep-alive', 'access-control-allow-origin': '*', 'openai-organization': 'montecito-b27bqi', 'openai-processing-ms': '32', 'openai-version': '2020-10-01', 'strict-transport-security': 'max-age=15724800; includeSubDomains', 'x-ratelimit-limit-requests': '10000', 'x-ratelimit-limit-tokens': '5000000', 'x-ratelimit-remaining-requests': '9999', 'x-ratelimit-remaining-tokens': '4999991', 'x-ratelimit-reset-requests': '6ms', 'x-ratelimit-reset-tokens': '0s', 'x-request-id': 'a61243b5910e1fda26c5f4ea548ade71', 'CF-Cache-Status': 'DYNAMIC', 'Server': 'cloudflare', 'CF-RAY': '823406a3fd6eb47e-DXB', 'alt-svc': 'h3=\":443\"; ma=86400'}\n",
      "\t\t\tAttempt 2 failed with error: The server had an error processing your request. Sorry about that! You can retry your request, or contact us through our help center at help.openai.com if you keep seeing this error. (Please include the request ID 1c871638d5efcd3866ea87d915d6e31f in your email.) {\n",
      "  \"error\": {\n",
      "    \"message\": \"The server had an error processing your request. Sorry about that! You can retry your request, or contact us through our help center at help.openai.com if you keep seeing this error. (Please include the request ID 1c871638d5efcd3866ea87d915d6e31f in your email.)\",\n",
      "    \"type\": \"server_error\",\n",
      "    \"param\": null,\n",
      "    \"code\": null\n",
      "  }\n",
      "}\n",
      " 500 {'error': {'message': 'The server had an error processing your request. Sorry about that! You can retry your request, or contact us through our help center at help.openai.com if you keep seeing this error. (Please include the request ID 1c871638d5efcd3866ea87d915d6e31f in your email.)', 'type': 'server_error', 'param': None, 'code': None}} {'Date': 'Thu, 09 Nov 2023 06:33:52 GMT', 'Content-Type': 'application/json', 'Content-Length': '366', 'Connection': 'keep-alive', 'access-control-allow-origin': '*', 'openai-organization': 'montecito-b27bqi', 'openai-processing-ms': '27', 'openai-version': '2020-10-01', 'strict-transport-security': 'max-age=15724800; includeSubDomains', 'x-ratelimit-limit-requests': '10000', 'x-ratelimit-limit-tokens': '5000000', 'x-ratelimit-remaining-requests': '9999', 'x-ratelimit-remaining-tokens': '4999990', 'x-ratelimit-reset-requests': '6ms', 'x-ratelimit-reset-tokens': '0s', 'x-request-id': '1c871638d5efcd3866ea87d915d6e31f', 'CF-Cache-Status': 'DYNAMIC', 'Server': 'cloudflare', 'CF-RAY': '823406d7ac01b47e-DXB', 'alt-svc': 'h3=\":443\"; ma=86400'}\n"
     ]
    },
    {
     "name": "stderr",
     "output_type": "stream",
     "text": [
      " 81%|████████  | 203/252 [15:46<03:02,  3.73s/it]"
     ]
    },
    {
     "name": "stdout",
     "output_type": "stream",
     "text": [
      "\t\t\tAttempt 1 failed with error: The server had an error processing your request. Sorry about that! You can retry your request, or contact us through our help center at help.openai.com if you keep seeing this error. (Please include the request ID 8590d8d449c29c12fbdc2b46e8195bc6 in your email.) {\n",
      "  \"error\": {\n",
      "    \"message\": \"The server had an error processing your request. Sorry about that! You can retry your request, or contact us through our help center at help.openai.com if you keep seeing this error. (Please include the request ID 8590d8d449c29c12fbdc2b46e8195bc6 in your email.)\",\n",
      "    \"type\": \"server_error\",\n",
      "    \"param\": null,\n",
      "    \"code\": null\n",
      "  }\n",
      "}\n",
      " 500 {'error': {'message': 'The server had an error processing your request. Sorry about that! You can retry your request, or contact us through our help center at help.openai.com if you keep seeing this error. (Please include the request ID 8590d8d449c29c12fbdc2b46e8195bc6 in your email.)', 'type': 'server_error', 'param': None, 'code': None}} {'Date': 'Thu, 09 Nov 2023 06:34:35 GMT', 'Content-Type': 'application/json', 'Content-Length': '366', 'Connection': 'keep-alive', 'access-control-allow-origin': '*', 'openai-organization': 'montecito-b27bqi', 'openai-processing-ms': '25', 'openai-version': '2020-10-01', 'strict-transport-security': 'max-age=15724800; includeSubDomains', 'x-ratelimit-limit-requests': '10000', 'x-ratelimit-limit-tokens': '5000000', 'x-ratelimit-remaining-requests': '9999', 'x-ratelimit-remaining-tokens': '4999992', 'x-ratelimit-reset-requests': '6ms', 'x-ratelimit-reset-tokens': '0s', 'x-request-id': '8590d8d449c29c12fbdc2b46e8195bc6', 'CF-Cache-Status': 'DYNAMIC', 'Server': 'cloudflare', 'CF-RAY': '823407e4ca4cb47e-DXB', 'alt-svc': 'h3=\":443\"; ma=86400'}\n"
     ]
    },
    {
     "name": "stderr",
     "output_type": "stream",
     "text": [
      " 84%|████████▍ | 212/252 [16:35<02:28,  3.70s/it]"
     ]
    },
    {
     "name": "stdout",
     "output_type": "stream",
     "text": [
      "\t\t\tAttempt 1 failed with error: The server had an error processing your request. Sorry about that! You can retry your request, or contact us through our help center at help.openai.com if you keep seeing this error. (Please include the request ID 376682f73ec4194c3678081474868587 in your email.) {\n",
      "  \"error\": {\n",
      "    \"message\": \"The server had an error processing your request. Sorry about that! You can retry your request, or contact us through our help center at help.openai.com if you keep seeing this error. (Please include the request ID 376682f73ec4194c3678081474868587 in your email.)\",\n",
      "    \"type\": \"server_error\",\n",
      "    \"param\": null,\n",
      "    \"code\": null\n",
      "  }\n",
      "}\n",
      " 500 {'error': {'message': 'The server had an error processing your request. Sorry about that! You can retry your request, or contact us through our help center at help.openai.com if you keep seeing this error. (Please include the request ID 376682f73ec4194c3678081474868587 in your email.)', 'type': 'server_error', 'param': None, 'code': None}} {'Date': 'Thu, 09 Nov 2023 06:35:23 GMT', 'Content-Type': 'application/json', 'Content-Length': '366', 'Connection': 'keep-alive', 'access-control-allow-origin': '*', 'openai-organization': 'montecito-b27bqi', 'openai-processing-ms': '26', 'openai-version': '2020-10-01', 'strict-transport-security': 'max-age=15724800; includeSubDomains', 'x-ratelimit-limit-requests': '10000', 'x-ratelimit-limit-tokens': '5000000', 'x-ratelimit-remaining-requests': '9999', 'x-ratelimit-remaining-tokens': '4999990', 'x-ratelimit-reset-requests': '6ms', 'x-ratelimit-reset-tokens': '0s', 'x-request-id': '376682f73ec4194c3678081474868587', 'CF-Cache-Status': 'DYNAMIC', 'Server': 'cloudflare', 'CF-RAY': '8234090c0dbcb47e-DXB', 'alt-svc': 'h3=\":443\"; ma=86400'}\n"
     ]
    },
    {
     "name": "stderr",
     "output_type": "stream",
     "text": [
      " 87%|████████▋ | 218/252 [17:03<02:08,  3.78s/it]"
     ]
    },
    {
     "name": "stdout",
     "output_type": "stream",
     "text": [
      "\t\t\tAttempt 1 failed with error: The server had an error processing your request. Sorry about that! You can retry your request, or contact us through our help center at help.openai.com if you keep seeing this error. (Please include the request ID 9b41779395e8e1ce18a60f605e7af9ab in your email.) {\n",
      "  \"error\": {\n",
      "    \"message\": \"The server had an error processing your request. Sorry about that! You can retry your request, or contact us through our help center at help.openai.com if you keep seeing this error. (Please include the request ID 9b41779395e8e1ce18a60f605e7af9ab in your email.)\",\n",
      "    \"type\": \"server_error\",\n",
      "    \"param\": null,\n",
      "    \"code\": null\n",
      "  }\n",
      "}\n",
      " 500 {'error': {'message': 'The server had an error processing your request. Sorry about that! You can retry your request, or contact us through our help center at help.openai.com if you keep seeing this error. (Please include the request ID 9b41779395e8e1ce18a60f605e7af9ab in your email.)', 'type': 'server_error', 'param': None, 'code': None}} {'Date': 'Thu, 09 Nov 2023 06:35:51 GMT', 'Content-Type': 'application/json', 'Content-Length': '366', 'Connection': 'keep-alive', 'access-control-allow-origin': '*', 'openai-organization': 'montecito-b27bqi', 'openai-processing-ms': '24', 'openai-version': '2020-10-01', 'strict-transport-security': 'max-age=15724800; includeSubDomains', 'x-ratelimit-limit-requests': '10000', 'x-ratelimit-limit-tokens': '5000000', 'x-ratelimit-remaining-requests': '9999', 'x-ratelimit-remaining-tokens': '4999995', 'x-ratelimit-reset-requests': '6ms', 'x-ratelimit-reset-tokens': '0s', 'x-request-id': '9b41779395e8e1ce18a60f605e7af9ab', 'CF-Cache-Status': 'DYNAMIC', 'Server': 'cloudflare', 'CF-RAY': '823409bc7cf9b47e-DXB', 'alt-svc': 'h3=\":443\"; ma=86400'}\n",
      "\t\t\tAttempt 2 failed with error: The server is overloaded or not ready yet.\n"
     ]
    },
    {
     "name": "stderr",
     "output_type": "stream",
     "text": [
      " 88%|████████▊ | 223/252 [17:36<02:13,  4.61s/it]"
     ]
    },
    {
     "name": "stdout",
     "output_type": "stream",
     "text": [
      "\t\t\tAttempt 1 failed with error: The server had an error processing your request. Sorry about that! You can retry your request, or contact us through our help center at help.openai.com if you keep seeing this error. (Please include the request ID 5c386b81ae6bd87b1aa236bc17ab77c0 in your email.) {\n",
      "  \"error\": {\n",
      "    \"message\": \"The server had an error processing your request. Sorry about that! You can retry your request, or contact us through our help center at help.openai.com if you keep seeing this error. (Please include the request ID 5c386b81ae6bd87b1aa236bc17ab77c0 in your email.)\",\n",
      "    \"type\": \"server_error\",\n",
      "    \"param\": null,\n",
      "    \"code\": null\n",
      "  }\n",
      "}\n",
      " 500 {'error': {'message': 'The server had an error processing your request. Sorry about that! You can retry your request, or contact us through our help center at help.openai.com if you keep seeing this error. (Please include the request ID 5c386b81ae6bd87b1aa236bc17ab77c0 in your email.)', 'type': 'server_error', 'param': None, 'code': None}} {'Date': 'Thu, 09 Nov 2023 06:36:22 GMT', 'Content-Type': 'application/json', 'Content-Length': '366', 'Connection': 'keep-alive', 'access-control-allow-origin': '*', 'openai-organization': 'montecito-b27bqi', 'openai-processing-ms': '22', 'openai-version': '2020-10-01', 'strict-transport-security': 'max-age=15724800; includeSubDomains', 'x-ratelimit-limit-requests': '10000', 'x-ratelimit-limit-tokens': '5000000', 'x-ratelimit-remaining-requests': '9999', 'x-ratelimit-remaining-tokens': '4999992', 'x-ratelimit-reset-requests': '6ms', 'x-ratelimit-reset-tokens': '0s', 'x-request-id': '5c386b81ae6bd87b1aa236bc17ab77c0', 'CF-Cache-Status': 'DYNAMIC', 'Server': 'cloudflare', 'CF-RAY': '82340a813d3eb47e-DXB', 'alt-svc': 'h3=\":443\"; ma=86400'}\n"
     ]
    },
    {
     "name": "stderr",
     "output_type": "stream",
     "text": [
      " 94%|█████████▍| 237/252 [18:40<01:37,  6.52s/it]"
     ]
    },
    {
     "name": "stdout",
     "output_type": "stream",
     "text": [
      "\t\t\tAttempt 1 failed with error: The server had an error processing your request. Sorry about that! You can retry your request, or contact us through our help center at help.openai.com if you keep seeing this error. (Please include the request ID de79c60f480a5e2dc48ac7ca5bdad8d2 in your email.) {\n",
      "  \"error\": {\n",
      "    \"message\": \"The server had an error processing your request. Sorry about that! You can retry your request, or contact us through our help center at help.openai.com if you keep seeing this error. (Please include the request ID de79c60f480a5e2dc48ac7ca5bdad8d2 in your email.)\",\n",
      "    \"type\": \"server_error\",\n",
      "    \"param\": null,\n",
      "    \"code\": null\n",
      "  }\n",
      "}\n",
      " 500 {'error': {'message': 'The server had an error processing your request. Sorry about that! You can retry your request, or contact us through our help center at help.openai.com if you keep seeing this error. (Please include the request ID de79c60f480a5e2dc48ac7ca5bdad8d2 in your email.)', 'type': 'server_error', 'param': None, 'code': None}} {'Date': 'Thu, 09 Nov 2023 06:37:27 GMT', 'Content-Type': 'application/json', 'Content-Length': '366', 'Connection': 'keep-alive', 'access-control-allow-origin': '*', 'openai-organization': 'montecito-b27bqi', 'openai-processing-ms': '41', 'openai-version': '2020-10-01', 'strict-transport-security': 'max-age=15724800; includeSubDomains', 'x-ratelimit-limit-requests': '10000', 'x-ratelimit-limit-tokens': '5000000', 'x-ratelimit-remaining-requests': '9999', 'x-ratelimit-remaining-tokens': '4999988', 'x-ratelimit-reset-requests': '6ms', 'x-ratelimit-reset-tokens': '0s', 'x-request-id': 'de79c60f480a5e2dc48ac7ca5bdad8d2', 'CF-Cache-Status': 'DYNAMIC', 'Server': 'cloudflare', 'CF-RAY': '82340c157de7b47e-DXB', 'alt-svc': 'h3=\":443\"; ma=86400'}\n"
     ]
    },
    {
     "name": "stderr",
     "output_type": "stream",
     "text": [
      "100%|██████████| 252/252 [19:38<00:00,  4.68s/it]\n"
     ]
    }
   ],
   "source": [
    "from tqdm.auto import tqdm\n",
    "import time\n",
    "\n",
    "results = {}\n",
    "thresholds = [0.05, 0.10, 0.15, 0.20, 0.25, 0.30, 0.35, 0.40, 0.45 ,0.5, 0.55, 0.6, 0.65, 0.7, 0.75, 0.8, 0.85, 0.9, 0.95]\n",
    "# thresholds = [0.75, 0.77, 0.79, 0.81, 0.83, 0.85, 0.87, 0.89, 0.91]\n",
    "# thresholds = [0.81, 0.82, 0.83, 0.84, 0.85]\n",
    "threshold_method = 'max' # 'mean', 'max'\n",
    "\n",
    "for q, expected in tqdm(queries):\n",
    "\n",
    "    # Attempt Query 3 Times.\n",
    "    out = 'UNDEFINED_CLASS'  # Initialize actual_decision here\n",
    "    all_attempts_failed = True  # Initialize flag here\n",
    "    for i in range(3):\n",
    "        try:\n",
    "            start_time = time.time()  # Start timer\n",
    "            out = dl._query(q, top_k=5)\n",
    "            feature_vector = dl.encoder([q])[0]\n",
    "            end_time = time.time()  # End timer\n",
    "            all_attempts_failed = False  # If we reach this line, the attempt was successful\n",
    "            break\n",
    "        except Exception as e:\n",
    "            print(f\"\\t\\t\\tAttempt {i+1} failed with error: {str(e)}\")\n",
    "            if i < 2:  # Don't sleep after the last attempt\n",
    "                time.sleep(5)\n",
    "    if all_attempts_failed:\n",
    "        print(\"\\t\\t\\tAll attempts failed. Skipping this utterance.\")\n",
    "        continue  # Skip to the next utterance\n",
    "    \n",
    "    # Determine Top Class and the Cosine-Similarity Scores of Vectors that Contributed to Top Class score.\n",
    "    top_class, top_class_scores = dl._semantic_classify(query_results=out)\n",
    "\n",
    "    # test if the top score is above the threshold for range of thresholds\n",
    "    for threshold in thresholds:\n",
    "        if threshold not in results:\n",
    "            results[threshold] = []\n",
    "        top_class = svm_decision_or_other_classify(feature_vector, top_class, threshold, clf)\n",
    "        correct = top_class == expected\n",
    "        results[threshold].append(correct)"
   ]
  },
  {
   "cell_type": "code",
   "execution_count": 65,
   "metadata": {},
   "outputs": [
    {
     "name": "stdout",
     "output_type": "stream",
     "text": [
      "Threshold: 0.05, Accuracy: 0.4801587301587302\n",
      "Threshold: 0.1, Accuracy: 0.4801587301587302\n",
      "Threshold: 0.15, Accuracy: 0.4801587301587302\n",
      "Threshold: 0.2, Accuracy: 0.4801587301587302\n",
      "Threshold: 0.25, Accuracy: 0.5873015873015873\n",
      "Threshold: 0.3, Accuracy: 0.7420634920634921\n",
      "Threshold: 0.35, Accuracy: 0.8293650793650794\n",
      "Threshold: 0.4, Accuracy: 0.8809523809523809\n",
      "Threshold: 0.45, Accuracy: 0.8928571428571429\n",
      "Threshold: 0.5, Accuracy: 0.8611111111111112\n",
      "Threshold: 0.55, Accuracy: 0.8293650793650794\n",
      "Threshold: 0.6, Accuracy: 0.7936507936507936\n",
      "Threshold: 0.65, Accuracy: 0.7420634920634921\n",
      "Threshold: 0.7, Accuracy: 0.7063492063492064\n",
      "Threshold: 0.75, Accuracy: 0.6865079365079365\n",
      "Threshold: 0.8, Accuracy: 0.5952380952380952\n",
      "Threshold: 0.85, Accuracy: 0.5674603174603174\n",
      "Threshold: 0.9, Accuracy: 0.5198412698412699\n",
      "Threshold: 0.95, Accuracy: 0.503968253968254\n"
     ]
    }
   ],
   "source": [
    "for k, v in results.items():\n",
    "    print(f\"Threshold: {k}, Accuracy: {sum(v) / len(v)}\")"
   ]
  },
  {
   "cell_type": "code",
   "execution_count": null,
   "metadata": {},
   "outputs": [],
   "source": []
  }
 ],
 "metadata": {
  "kernelspec": {
   "display_name": "decision-layer",
   "language": "python",
   "name": "python3"
  },
  "language_info": {
   "codemirror_mode": {
    "name": "ipython",
    "version": 3
   },
   "file_extension": ".py",
   "mimetype": "text/x-python",
   "name": "python",
   "nbconvert_exporter": "python",
   "pygments_lexer": "ipython3",
   "version": "3.11.4"
  }
 },
 "nbformat": 4,
 "nbformat_minor": 2
}
